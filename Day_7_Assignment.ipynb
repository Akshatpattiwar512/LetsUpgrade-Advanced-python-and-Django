{
  "nbformat": 4,
  "nbformat_minor": 0,
  "metadata": {
    "colab": {
      "name": "Day-7 Assignment",
      "provenance": [],
      "collapsed_sections": [],
      "authorship_tag": "ABX9TyNcRZOv1UxgLf1zbWx/D9C6",
      "include_colab_link": true
    },
    "kernelspec": {
      "name": "python3",
      "display_name": "Python 3"
    }
  },
  "cells": [
    {
      "cell_type": "markdown",
      "metadata": {
        "id": "view-in-github",
        "colab_type": "text"
      },
      "source": [
        "<a href=\"https://colab.research.google.com/github/Akshatpattiwar512/LetsUpgrade-Advanced-python-and-Django/blob/main/Day_7_Assignment.ipynb\" target=\"_parent\"><img src=\"https://colab.research.google.com/assets/colab-badge.svg\" alt=\"Open In Colab\"/></a>"
      ]
    },
    {
      "cell_type": "code",
      "metadata": {
        "id": "eHJJhmz4m_DP",
        "outputId": "349f8777-ea5c-447c-8771-d273c73cc82f",
        "colab": {
          "base_uri": "https://localhost:8080/",
          "height": 34
        }
      },
      "source": [
        "list1=[10,20,30,40,50]\n",
        "list2=[5,15,25,35,45,60]\n",
        "my_list = list1+list2\n",
        "list3 = []\n",
        "\n",
        "while my_list:\n",
        "    min = my_list[0]  \n",
        "    for x in my_list: \n",
        "        if x < min:\n",
        "            min = x\n",
        "    list3.append(min)\n",
        "    my_list.remove(min)    \n",
        "\n",
        "print(\"list3=\",list3)\n",
        "\n",
        "\n"
      ],
      "execution_count": 3,
      "outputs": [
        {
          "output_type": "stream",
          "text": [
            "list3= [5, 10, 15, 20, 25, 30, 35, 40, 45, 50, 60]\n"
          ],
          "name": "stdout"
        }
      ]
    }
  ]
}