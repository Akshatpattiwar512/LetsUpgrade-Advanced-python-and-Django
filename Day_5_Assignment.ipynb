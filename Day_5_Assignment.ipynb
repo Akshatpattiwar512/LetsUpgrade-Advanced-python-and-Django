{
  "nbformat": 4,
  "nbformat_minor": 0,
  "metadata": {
    "colab": {
      "name": "Day-5 Assignment",
      "provenance": [],
      "collapsed_sections": [],
      "authorship_tag": "ABX9TyPVjT4HfqUX8WUqg4oIV8fn",
      "include_colab_link": true
    },
    "kernelspec": {
      "name": "python3",
      "display_name": "Python 3"
    }
  },
  "cells": [
    {
      "cell_type": "markdown",
      "metadata": {
        "id": "view-in-github",
        "colab_type": "text"
      },
      "source": [
        "<a href=\"https://colab.research.google.com/github/Akshatpattiwar512/LetsUpgrade-Advanced-python-and-Django/blob/main/Day_5_Assignment.ipynb\" target=\"_parent\"><img src=\"https://colab.research.google.com/assets/colab-badge.svg\" alt=\"Open In Colab\"/></a>"
      ]
    },
    {
      "cell_type": "code",
      "metadata": {
        "id": "MO5wAlYAXpEX",
        "outputId": "322e2775-6f9d-4364-82da-d6412926ed2e",
        "colab": {
          "base_uri": "https://localhost:8080/",
          "height": 34
        }
      },
      "source": [
        "'''\n",
        "\"Nick Fury\" : \"Tony Stark\", \"Maria Hill\", \"Norman Osborn\",\n",
        "\"Hulk\" : \"Tony Stark\",\"HawkEye\",\"Rogers\",\n",
        "\"Rogers\" : \"Thor\"\n",
        "\"Tony Stark\": \"Pepper Potts\",\"Nick Fury\"\n",
        "\"Agent_13\" : \"Agent-X,Nick Fury,Hitler\"\n",
        "'Thor\": \"HawkEye\",\"BlackWidow\",\n",
        "\"BlackWidow\":\"HawkEye\",\n",
        "\"Maria Hill\" : \"Hulk\",\"Rogers\",\"Nick Fury\",\n",
        "\"Agent-X\" : \"Agent_13\",\"Rogers\",\n",
        "\"Norman Osborn\": \"Tony Stark\",\"Thor\"\n",
        "'''\n",
        "\n",
        "dict1={'Nick Fury': 'Tony Stark,Maria Hill,Norman Osborn','Hulk':'Tony Stark,HawkEye,Rogers', 'Rogers':'Thor','Tony Stark':'Pepper Potts,Nick Fury','Agent-13':'Agent-X,Nick Fury,Hitler','Thor':'HawkEye,Black Widow','Black Widow':'HawkEye','Maria Hill':\"Hulk,Rogers,Nick Fury\",'Agent-X':\"Agent-13,Rogers\", 'Norman Osborn': \"Tony Stark,Thor\"}\n",
        "value=[]\n",
        "\n",
        "list1=list(dict1.keys())\n",
        "list2=list(dict1.values())\n",
        "list3=set(list1)\n",
        "def splitvalues(l):\n",
        "    return l.split(',')\n",
        "\n",
        "for each in list2:\n",
        "    value.extend(splitvalues(each))\n",
        "\n",
        "\n",
        "list1.extend(value)\n",
        "\n",
        "set1=set(list1)\n",
        "x=[]\n",
        "keys=['Nick Fury']\n",
        "\n",
        "def findhydra(k):\n",
        "    x.extend(splitvalues(dict1[k]))\n",
        "    \n",
        "        \n",
        "for k,v in dict1.items():\n",
        "    if k in keys:\n",
        "        keys.extend(splitvalues(dict1[k]))\n",
        "kl=set(keys)\n",
        "y=l3.intersection(kl)\n",
        "\n",
        "for i in y:\n",
        "    findhydra(i)\n",
        "\n",
        "z=set(x)\n",
        "print(s1-z)\n",
        "\n"
      ],
      "execution_count": 40,
      "outputs": [
        {
          "output_type": "stream",
          "text": [
            "{'Agent-13', 'Agent-X', 'Hitler'}\n"
          ],
          "name": "stdout"
        }
      ]
    }
  ]
}