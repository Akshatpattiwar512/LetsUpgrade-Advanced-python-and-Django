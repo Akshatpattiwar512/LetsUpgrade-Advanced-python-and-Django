{
  "nbformat": 4,
  "nbformat_minor": 0,
  "metadata": {
    "colab": {
      "name": "Assignment-3 Day-3",
      "provenance": [],
      "authorship_tag": "ABX9TyOSAkuqR62BNnXf94gdd4ZF",
      "include_colab_link": true
    },
    "kernelspec": {
      "name": "python3",
      "display_name": "Python 3"
    }
  },
  "cells": [
    {
      "cell_type": "markdown",
      "metadata": {
        "id": "view-in-github",
        "colab_type": "text"
      },
      "source": [
        "<a href=\"https://colab.research.google.com/github/Akshatpattiwar512/LetsUpgrade-Advanced-python-and-Django/blob/main/Assignment_3_Day_3.ipynb\" target=\"_parent\"><img src=\"https://colab.research.google.com/assets/colab-badge.svg\" alt=\"Open In Colab\"/></a>"
      ]
    },
    {
      "cell_type": "code",
      "metadata": {
        "id": "BVcMaczuX7cl",
        "outputId": "057028f8-32c1-477e-a244-bf0015935d31",
        "colab": {
          "base_uri": "https://localhost:8080/",
          "height": 34
        }
      },
      "source": [
        "list1=[(10,4),(90,3),(9,1),(10,4),(9,5)]\n",
        "def fun1(x):\n",
        "  return (x[0]+x[1])\n",
        "list1.sort(key=fun1)\n",
        "print(list1)"
      ],
      "execution_count": 10,
      "outputs": [
        {
          "output_type": "stream",
          "text": [
            "[(9, 1), (10, 4), (10, 4), (9, 5), (90, 3)]\n"
          ],
          "name": "stdout"
        }
      ]
    }
  ]
}