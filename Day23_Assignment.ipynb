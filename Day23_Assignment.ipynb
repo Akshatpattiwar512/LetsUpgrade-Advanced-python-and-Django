{
  "nbformat": 4,
  "nbformat_minor": 0,
  "metadata": {
    "colab": {
      "name": "Day23 Assignment",
      "provenance": [],
      "authorship_tag": "ABX9TyP21rOHuOpHN1Uc/xFPhHnr",
      "include_colab_link": true
    },
    "kernelspec": {
      "name": "python3",
      "display_name": "Python 3"
    }
  },
  "cells": [
    {
      "cell_type": "markdown",
      "metadata": {
        "id": "view-in-github",
        "colab_type": "text"
      },
      "source": [
        "<a href=\"https://colab.research.google.com/github/Akshatpattiwar512/LetsUpgrade-Advanced-python-and-Django/blob/main/Day23_Assignment.ipynb\" target=\"_parent\"><img src=\"https://colab.research.google.com/assets/colab-badge.svg\" alt=\"Open In Colab\"/></a>"
      ]
    },
    {
      "cell_type": "code",
      "metadata": {
        "id": "VkBQWD01ROC5",
        "outputId": "0bc86d47-a454-40f5-d7c9-7081a8c6a681",
        "colab": {
          "base_uri": "https://localhost:8080/",
          "height": 128
        }
      },
      "source": [
        "import os\n",
        "import re\n",
        "import timet1=time.time()\n",
        "dict1={}\n",
        "i=1\n",
        "def get_drives():\n",
        "  resp=os.popen(\"wmic logical disk caption\")\n",
        "  drive=resp.read\n",
        "  return drive.split()[1:]\n",
        "\n",
        "def creatingindex(path):\n",
        "  global i\n",
        "  resp=os.walk(path)\n",
        "  for root,d,files in resp:\n",
        "    for files in file:\n",
        "      path1=root+\"\\\\\"+gile\n",
        "      print(path1)\n",
        "      file1=file+\"|\"+str(i)\n",
        "      dict1[file1]=path1\n",
        "      i=i+1\n",
        "\n",
        "def search(file1):\n",
        "  for k,v in dict1.items():\n",
        "    k=k.split(\"l\")[0]\n",
        "    m=re.search(file1,k,re.l)\n",
        "    if m:\n",
        "      print(k,\":\",v)\n",
        "\n",
        "path=\"C:\\\\Users\\\\AKSHAT PATTIWAR\\\\Documents\"\n",
        "for d in get_drives():\n",
        "  print(d)\n",
        "  creatingindex(d+\"\\\\\")\n",
        "t2=time.time()\n",
        "print(t2-t1)\n",
        "file1=input(\"Enter the file name\")\n",
        "search(file1)"
      ],
      "execution_count": null,
      "outputs": [
        {
          "output_type": "error",
          "ename": "SyntaxError",
          "evalue": "ignored",
          "traceback": [
            "\u001b[0;36m  File \u001b[0;32m\"<ipython-input-1-4e83f5b7d786>\"\u001b[0;36m, line \u001b[0;32m2\u001b[0m\n\u001b[0;31m    dict{}\u001b[0m\n\u001b[0m        ^\u001b[0m\n\u001b[0;31mSyntaxError\u001b[0m\u001b[0;31m:\u001b[0m invalid syntax\n"
          ]
        }
      ]
    },
    {
      "cell_type": "code",
      "metadata": {
        "id": "B9Dkytu3FuLj"
      },
      "source": [
        ""
      ],
      "execution_count": null,
      "outputs": []
    }
  ]
}