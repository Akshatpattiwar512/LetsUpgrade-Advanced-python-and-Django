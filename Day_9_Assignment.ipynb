{
  "nbformat": 4,
  "nbformat_minor": 0,
  "metadata": {
    "colab": {
      "name": "Day-9 Assignment",
      "provenance": [],
      "authorship_tag": "ABX9TyMzWMsa+y4ByrTXeaR4+QBY",
      "include_colab_link": true
    },
    "kernelspec": {
      "name": "python3",
      "display_name": "Python 3"
    }
  },
  "cells": [
    {
      "cell_type": "markdown",
      "metadata": {
        "id": "view-in-github",
        "colab_type": "text"
      },
      "source": [
        "<a href=\"https://colab.research.google.com/github/Akshatpattiwar512/LetsUpgrade-Advanced-python-and-Django/blob/main/Day_9_Assignment.ipynb\" target=\"_parent\"><img src=\"https://colab.research.google.com/assets/colab-badge.svg\" alt=\"Open In Colab\"/></a>"
      ]
    },
    {
      "cell_type": "code",
      "metadata": {
        "id": "EDekU7trW67v"
      },
      "source": [
        "import random\n",
        "import string\n",
        "def get_random_password_string():\n",
        "    password_characters = string.ascii_letters + string.digits + string.punctuation\n",
        "    password = ''.join(random.choice(password_characters) for i in range(12))\n",
        "    print(password)\n"
      ],
      "execution_count": 32,
      "outputs": []
    },
    {
      "cell_type": "code",
      "metadata": {
        "id": "CpQcbTU2tqN6",
        "outputId": "8971bce3-f30a-42eb-f5f2-c6a3863c8576",
        "colab": {
          "base_uri": "https://localhost:8080/",
          "height": 34
        }
      },
      "source": [
        "get_random_password_string()"
      ],
      "execution_count": 35,
      "outputs": [
        {
          "output_type": "stream",
          "text": [
            "[/D}O]3;@[Ee\n"
          ],
          "name": "stdout"
        }
      ]
    }
  ]
}