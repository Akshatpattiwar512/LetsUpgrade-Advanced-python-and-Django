{
  "nbformat": 4,
  "nbformat_minor": 0,
  "metadata": {
    "colab": {
      "name": "Day-7",
      "provenance": [],
      "collapsed_sections": [],
      "authorship_tag": "ABX9TyPP2Hy+HL1tRAIOilq6E7+w",
      "include_colab_link": true
    },
    "kernelspec": {
      "name": "python3",
      "display_name": "Python 3"
    }
  },
  "cells": [
    {
      "cell_type": "markdown",
      "metadata": {
        "id": "view-in-github",
        "colab_type": "text"
      },
      "source": [
        "<a href=\"https://colab.research.google.com/github/Akshatpattiwar512/LetsUpgrade-Advanced-python-and-Django/blob/main/Day_7.ipynb\" target=\"_parent\"><img src=\"https://colab.research.google.com/assets/colab-badge.svg\" alt=\"Open In Colab\"/></a>"
      ]
    },
    {
      "cell_type": "code",
      "metadata": {
        "id": "mb7ymsbYg_Hp",
        "outputId": "39d0c971-f5f7-491c-f3ce-267b20aa6c92",
        "colab": {
          "base_uri": "https://localhost:8080/",
          "height": 34
        }
      },
      "source": [
        "list1=[10,20,30,40,50]\n",
        "list2=[5,15,25,35,45,60]\n",
        "x=list1+list2\n",
        "list3 = []\n",
        "for i in range(len(x)):\n",
        "    a = min(x)\n",
        "    list3.append(a)\n",
        "    x.remove(a)\n",
        "\n",
        "print (\"List3=\",list3)"
      ],
      "execution_count": null,
      "outputs": [
        {
          "output_type": "stream",
          "text": [
            "List3= [5, 10, 15, 20, 25, 30, 35, 40, 45, 50, 60]\n"
          ],
          "name": "stdout"
        }
      ]
    }
  ]
}