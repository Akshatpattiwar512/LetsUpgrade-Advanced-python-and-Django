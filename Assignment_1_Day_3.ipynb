{
  "nbformat": 4,
  "nbformat_minor": 0,
  "metadata": {
    "colab": {
      "name": "Assignment-1  Day-3",
      "provenance": [],
      "collapsed_sections": [],
      "authorship_tag": "ABX9TyP0cFSbgRlaaZoSmXghj8JS",
      "include_colab_link": true
    },
    "kernelspec": {
      "name": "python3",
      "display_name": "Python 3"
    }
  },
  "cells": [
    {
      "cell_type": "markdown",
      "metadata": {
        "id": "view-in-github",
        "colab_type": "text"
      },
      "source": [
        "<a href=\"https://colab.research.google.com/github/Akshatpattiwar512/LetsUpgrade-Advanced-python-and-Django/blob/main/Assignment_1_Day_3.ipynb\" target=\"_parent\"><img src=\"https://colab.research.google.com/assets/colab-badge.svg\" alt=\"Open In Colab\"/></a>"
      ]
    },
    {
      "cell_type": "code",
      "metadata": {
        "id": "6RGPaOpHR2SD",
        "outputId": "75913179-65e4-4329-cd72-41d84f936149",
        "colab": {
          "base_uri": "https://localhost:8080/",
          "height": 34
        }
      },
      "source": [
        "list1=['192.168.10.9','192.168.10.4','192.168.10.11','192.168.10.35']\n",
        "sorted(list3,key=lambda x: int(x.rsplit('.',1)[1]),reverse=False)"
      ],
      "execution_count": 130,
      "outputs": [
        {
          "output_type": "execute_result",
          "data": {
            "text/plain": [
              "['192.168.10.4', '192.168.10.9', '192.168.10.11', '192.168.10.35']"
            ]
          },
          "metadata": {
            "tags": []
          },
          "execution_count": 130
        }
      ]
    }
  ]
}