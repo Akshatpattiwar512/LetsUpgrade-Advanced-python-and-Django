{
  "nbformat": 4,
  "nbformat_minor": 0,
  "metadata": {
    "colab": {
      "name": "Day-10 Assignment",
      "provenance": [],
      "collapsed_sections": [],
      "authorship_tag": "ABX9TyOkQH51fVb1fXNVEDkUtRxQ",
      "include_colab_link": true
    },
    "kernelspec": {
      "name": "python3",
      "display_name": "Python 3"
    }
  },
  "cells": [
    {
      "cell_type": "markdown",
      "metadata": {
        "id": "view-in-github",
        "colab_type": "text"
      },
      "source": [
        "<a href=\"https://colab.research.google.com/github/Akshatpattiwar512/LetsUpgrade-Advanced-python-and-Django/blob/main/Day_10_Assignment.ipynb\" target=\"_parent\"><img src=\"https://colab.research.google.com/assets/colab-badge.svg\" alt=\"Open In Colab\"/></a>"
      ]
    },
    {
      "cell_type": "code",
      "metadata": {
        "id": "nb1cJeUQdwwU"
      },
      "source": [
        "import time\n",
        "from calendar import timegm\n",
        "\n",
        "utc_time = time.strptime(\"15-08-2020 15:20:20\", \"%d-%m-%Y %H:%M:%S\")\n",
        "epoch_time = timegm(utc_time)"
      ],
      "execution_count": null,
      "outputs": []
    },
    {
      "cell_type": "code",
      "metadata": {
        "id": "-N3RqlejgMrp",
        "outputId": "9c4da3dd-16cf-4e33-c569-dab5b74fb7f8",
        "colab": {
          "base_uri": "https://localhost:8080/",
          "height": 34
        }
      },
      "source": [
        "print(epoch_time)"
      ],
      "execution_count": null,
      "outputs": [
        {
          "output_type": "stream",
          "text": [
            "1597504820\n"
          ],
          "name": "stdout"
        }
      ]
    }
  ]
}