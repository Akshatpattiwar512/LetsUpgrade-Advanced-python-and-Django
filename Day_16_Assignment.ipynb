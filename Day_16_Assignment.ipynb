{
  "nbformat": 4,
  "nbformat_minor": 0,
  "metadata": {
    "colab": {
      "name": "Day-16 Assignment",
      "provenance": [],
      "authorship_tag": "ABX9TyOXZdh7Ghqg3M9RkTQcVWKB",
      "include_colab_link": true
    },
    "kernelspec": {
      "name": "python3",
      "display_name": "Python 3"
    }
  },
  "cells": [
    {
      "cell_type": "markdown",
      "metadata": {
        "id": "view-in-github",
        "colab_type": "text"
      },
      "source": [
        "<a href=\"https://colab.research.google.com/github/Akshatpattiwar512/LetsUpgrade-Advanced-python-and-Django/blob/main/Day_16_Assignment.ipynb\" target=\"_parent\"><img src=\"https://colab.research.google.com/assets/colab-badge.svg\" alt=\"Open In Colab\"/></a>"
      ]
    },
    {
      "cell_type": "code",
      "metadata": {
        "id": "0wP9eMkltdXu",
        "outputId": "26fc708a-603c-489e-a23c-f67b946903e5",
        "colab": {
          "base_uri": "https://localhost:8080/",
          "height": 170
        }
      },
      "source": [
        "import requests\n",
        "import re\n",
        "url=\"https://study-ccna.com/classes-of-ip-addresses/\"\n",
        "a=requests.get(url)\n",
        "data_ip=a.text\n",
        "ip=r\"[0-9]+\\.[0-9]+\\.[0-9]+\\.[0-9]\"\n",
        "list_ip=re.findall(ip,data_ip)\n",
        "for each in list_ip:\n",
        "  print(each)"
      ],
      "execution_count": 17,
      "outputs": [
        {
          "output_type": "stream",
          "text": [
            "10.50.120.7\n",
            "10.47.8.4\n",
            "11.5.4.3\n",
            "172.16.55.1\n",
            "172.16.254.3\n",
            "172.55.54.7\n",
            "0.0.0.0\n",
            "127.0.0.0\n",
            "169.254.0.0\n"
          ],
          "name": "stdout"
        }
      ]
    }
  ]
}